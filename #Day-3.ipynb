{
 "cells": [
  {
   "cell_type": "markdown",
   "metadata": {},
   "source": [
    "Given a string s containing just the characters '(', ')', '{', '}', '[' and ']', determine if the input string is valid.\n",
    "\n",
    "An input string is valid if:\n",
    "\n",
    "1.Open brackets must be closed by the same type of brackets.\n",
    "\n",
    "2.Open brackets must be closed in the correct order.\n",
    "\n",
    "3.Every close bracket has a corresponding open bracket of the same type."
   ]
  },
  {
   "cell_type": "markdown",
   "metadata": {},
   "source": [
    "Input: s = \"()\"\n",
    "\n",
    "Output: true"
   ]
  },
  {
   "cell_type": "markdown",
   "metadata": {},
   "source": [
    "Input: s = \"(]\"\n",
    "\n",
    "Output: false"
   ]
  },
  {
   "cell_type": "code",
   "execution_count": 11,
   "metadata": {},
   "outputs": [
    {
     "name": "stdout",
     "output_type": "stream",
     "text": [
      "False\n"
     ]
    }
   ],
   "source": [
    "class Solution(object):\n",
    "    def isValid(self, s: str) -> bool:\n",
    "        \"\"\"\n",
    "        :type s: str\n",
    "        :rtype: bool\n",
    "        \"\"\"\n",
    "        stack = []\n",
    "        bracket_map = {')':'(', '}':'{', ']':'['}\n",
    "\n",
    "        for char in s:\n",
    "            if char in bracket_map:\n",
    "                top_element = stack.pop() if stack else '#'\n",
    "                if top_element != bracket_map[char]:\n",
    "                    return False\n",
    "            else:  # This handles the case for opening brackets\n",
    "                stack.append(char)\n",
    "        \n",
    "        return not stack  # If stack is empty, it's valid\n",
    "\n",
    "s = \"()[]}\"\n",
    "sol = Solution()\n",
    "result = sol.isValid(s)\n",
    "\n",
    "# Print the result\n",
    "print(result) \n"
   ]
  }
 ],
 "metadata": {
  "kernelspec": {
   "display_name": "Python 3",
   "language": "python",
   "name": "python3"
  },
  "language_info": {
   "codemirror_mode": {
    "name": "ipython",
    "version": 3
   },
   "file_extension": ".py",
   "mimetype": "text/x-python",
   "name": "python",
   "nbconvert_exporter": "python",
   "pygments_lexer": "ipython3",
   "version": "3.12.2"
  }
 },
 "nbformat": 4,
 "nbformat_minor": 2
}
